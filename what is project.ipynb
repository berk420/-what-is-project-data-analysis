{
 "cells": [
  {
   "cell_type": "markdown",
   "id": "dfac010b",
   "metadata": {},
   "source": [
    "# \"What is\" Project Data Analysis"
   ]
  },
  {
   "cell_type": "markdown",
   "id": "ed87d753",
   "metadata": {},
   "source": [
    "**Overview**\n",
    "\n",
    "Some experimental inferences were made from this data set created with Python."
   ]
  },
  {
   "cell_type": "code",
   "execution_count": 38,
   "id": "70c55ede",
   "metadata": {},
   "outputs": [],
   "source": [
    "# Importing the required packages here\n",
    "\n",
    "import pandas as pd \n",
    "import  numpy as np\n",
    "from numpy import nan as NA\n",
    "import matplotlib.pyplot as plt"
   ]
  },
  {
   "cell_type": "markdown",
   "id": "60e14c46",
   "metadata": {},
   "source": [
    "### Let's load the data\n",
    "Let's add a header to our dataset"
   ]
  },
  {
   "cell_type": "code",
   "execution_count": 39,
   "id": "3aeb72e5",
   "metadata": {},
   "outputs": [],
   "source": [
    "df = pd.read_csv('output_data_whatis.csv')\n",
    "df.to_csv(\"output_data_whatis.csv\", header=[\"Question\", \"Info\",\"importance level\", \"website\"], index=False)"
   ]
  },
  {
   "cell_type": "markdown",
   "id": "7d22473b",
   "metadata": {},
   "source": [
    "### Looking at this dataset, we need to define a set of questions.\n",
    "\n",
    "**Let's define those primary questions here:**\n",
    "1. What questions are in the dataset.\n",
    "2. Which question type has the most data?\n",
    "3. what are the data of \"what is Database\"."
   ]
  },
  {
   "cell_type": "markdown",
   "id": "7283761e",
   "metadata": {},
   "source": [
    "### Data Cleaning Process\n",
    "\n",
    "After observing the dataset and proposed questions for the analysis we will be keeping only relevent data deleting the unsued data so that we can make our calculation easy and understandable. .\n",
    "\n",
    "> Steps to be taken to clean the data.\n",
    "1. The cells of the data that had some problems while preparing the dataset were assigned as NaN. These cells have been deleted..\n",
    "2. The \"empty info\" and \"empyt url\" lines under the \"Info\" and \"website\" headers where the data could not be extracted have been deleted..\n",
    "3. Duplicate information deleted.\n"
   ]
  },
  {
   "cell_type": "code",
   "execution_count": 49,
   "id": "3b483979",
   "metadata": {},
   "outputs": [],
   "source": [
    "df=df.dropna()\n",
    "df=pd.read_csv('output_data_whatis.csv',na_values=[\"empty info\",\"empty url\",-5])\n",
    "df=df.drop_duplicates(subset=[\"Info\"],keep=\"first\")\n",
    "df.head();"
   ]
  },
  {
   "cell_type": "markdown",
   "id": "97360d47",
   "metadata": {},
   "source": [
    "### Organizing Data\n",
    "\n",
    "We have to take best info from the dataframe \n",
    "\n",
    "How did we determine that it was \"best info\"?\n",
    "After the \"what is\" part of the question asked,\n",
    "we put each word in array. We took the element of the array we created from each piece of information we extracted and how many of them were in \"Information\" and put it at the \"importance level\".\n",
    "\n",
    "For example:\n",
    "\n",
    "Question are \"What is Data Structure\"\n",
    "We have the words \"data\" and \"structure\" and assign it to input_arr.\n",
    "Incoming information: \"A data structure is a specific way of organizing data in a computer so that it can be used effectively.\"\n",
    "We have 3 words in it created by input_arr, and thus the \"importance level\" is 3.\n",
    "\n",
    "(neye göre iyi cevap olduğunu belirlediğimi bu kodlardan öğrenebilirsiniz!!!!!!!!!!!!!!!)."
   ]
  },
  {
   "cell_type": "code",
   "execution_count": 48,
   "id": "98918b14",
   "metadata": {},
   "outputs": [
    {
     "data": {
      "text/html": [
       "<div>\n",
       "<style scoped>\n",
       "    .dataframe tbody tr th:only-of-type {\n",
       "        vertical-align: middle;\n",
       "    }\n",
       "\n",
       "    .dataframe tbody tr th {\n",
       "        vertical-align: top;\n",
       "    }\n",
       "\n",
       "    .dataframe thead th {\n",
       "        text-align: right;\n",
       "    }\n",
       "</style>\n",
       "<table border=\"1\" class=\"dataframe\">\n",
       "  <thead>\n",
       "    <tr style=\"text-align: right;\">\n",
       "      <th></th>\n",
       "      <th>Question</th>\n",
       "      <th>Info</th>\n",
       "      <th>importance level</th>\n",
       "      <th>website</th>\n",
       "    </tr>\n",
       "  </thead>\n",
       "  <tbody>\n",
       "    <tr>\n",
       "      <th>10</th>\n",
       "      <td>what is Data Structure</td>\n",
       "      <td>Data Structures (DS) tutorial provides basic a...</td>\n",
       "      <td>5</td>\n",
       "      <td>www.javatpoint.com</td>\n",
       "    </tr>\n",
       "    <tr>\n",
       "      <th>11</th>\n",
       "      <td>what is Data Structure</td>\n",
       "      <td>Data Structure can be defined as the group of ...</td>\n",
       "      <td>6</td>\n",
       "      <td>www.javatpoint.com</td>\n",
       "    </tr>\n",
       "    <tr>\n",
       "      <th>12</th>\n",
       "      <td>what is Data Structure</td>\n",
       "      <td>Data Structures are the programmatic way of st...</td>\n",
       "      <td>6</td>\n",
       "      <td>www.tutorialspoint.com</td>\n",
       "    </tr>\n",
       "    <tr>\n",
       "      <th>13</th>\n",
       "      <td>what is Data Structure</td>\n",
       "      <td>A data structure is a collection of data value...</td>\n",
       "      <td>7</td>\n",
       "      <td>www.mygreatlearning.com</td>\n",
       "    </tr>\n",
       "    <tr>\n",
       "      <th>14</th>\n",
       "      <td>what is Data Structure</td>\n",
       "      <td>Data is one of the most powerful tools availab...</td>\n",
       "      <td>1</td>\n",
       "      <td>www.simplilearn.com</td>\n",
       "    </tr>\n",
       "    <tr>\n",
       "      <th>...</th>\n",
       "      <td>...</td>\n",
       "      <td>...</td>\n",
       "      <td>...</td>\n",
       "      <td>...</td>\n",
       "    </tr>\n",
       "    <tr>\n",
       "      <th>496</th>\n",
       "      <td>what is Scripting Languages</td>\n",
       "      <td>All scripting languages are programming langua...</td>\n",
       "      <td>6</td>\n",
       "      <td>www.geeksforgeeks.org</td>\n",
       "    </tr>\n",
       "    <tr>\n",
       "      <th>497</th>\n",
       "      <td>what is Scripting Languages</td>\n",
       "      <td>Basically, all scripting languages are program...</td>\n",
       "      <td>6</td>\n",
       "      <td>www.geeksforgeeks.org</td>\n",
       "    </tr>\n",
       "    <tr>\n",
       "      <th>501</th>\n",
       "      <td>what is Scripting Languages</td>\n",
       "      <td>Many people often do not know the differences ...</td>\n",
       "      <td>6</td>\n",
       "      <td>www.interviewbit.com</td>\n",
       "    </tr>\n",
       "    <tr>\n",
       "      <th>513</th>\n",
       "      <td>what is Scripting Languages</td>\n",
       "      <td>This article explains the fundamental differen...</td>\n",
       "      <td>2</td>\n",
       "      <td>www.softwaretestinghelp.com</td>\n",
       "    </tr>\n",
       "    <tr>\n",
       "      <th>518</th>\n",
       "      <td>what is Scripting Languages</td>\n",
       "      <td>When it comes to automating specific processes...</td>\n",
       "      <td>5</td>\n",
       "      <td>www.atatus.com</td>\n",
       "    </tr>\n",
       "  </tbody>\n",
       "</table>\n",
       "<p>99 rows × 4 columns</p>\n",
       "</div>"
      ],
      "text/plain": [
       "                        Question  \\\n",
       "10        what is Data Structure   \n",
       "11        what is Data Structure   \n",
       "12        what is Data Structure   \n",
       "13        what is Data Structure   \n",
       "14        what is Data Structure   \n",
       "..                           ...   \n",
       "496  what is Scripting Languages   \n",
       "497  what is Scripting Languages   \n",
       "501  what is Scripting Languages   \n",
       "513  what is Scripting Languages   \n",
       "518  what is Scripting Languages   \n",
       "\n",
       "                                                  Info  importance level  \\\n",
       "10   Data Structures (DS) tutorial provides basic a...                 5   \n",
       "11   Data Structure can be defined as the group of ...                 6   \n",
       "12   Data Structures are the programmatic way of st...                 6   \n",
       "13   A data structure is a collection of data value...                 7   \n",
       "14   Data is one of the most powerful tools availab...                 1   \n",
       "..                                                 ...               ...   \n",
       "496  All scripting languages are programming langua...                 6   \n",
       "497  Basically, all scripting languages are program...                 6   \n",
       "501  Many people often do not know the differences ...                 6   \n",
       "513  This article explains the fundamental differen...                 2   \n",
       "518  When it comes to automating specific processes...                 5   \n",
       "\n",
       "                         website  \n",
       "10            www.javatpoint.com  \n",
       "11            www.javatpoint.com  \n",
       "12        www.tutorialspoint.com  \n",
       "13       www.mygreatlearning.com  \n",
       "14           www.simplilearn.com  \n",
       "..                           ...  \n",
       "496        www.geeksforgeeks.org  \n",
       "497        www.geeksforgeeks.org  \n",
       "501         www.interviewbit.com  \n",
       "513  www.softwaretestinghelp.com  \n",
       "518               www.atatus.com  \n",
       "\n",
       "[99 rows x 4 columns]"
      ]
     },
     "execution_count": 48,
     "metadata": {},
     "output_type": "execute_result"
    }
   ],
   "source": [
    "df= df.drop(df[df[\"importance level\"] < 1].index)\n",
    "df"
   ]
  },
  {
   "cell_type": "markdown",
   "id": "c47cd2fd",
   "metadata": {},
   "source": [
    "## Let's answer Question #1"
   ]
  },
  {
   "cell_type": "code",
   "execution_count": 42,
   "id": "3f1a9141",
   "metadata": {},
   "outputs": [],
   "source": [
    "Questions=df[\"Question\"].astype(\"category\");\n",
    "Questions.drop_duplicates();\n"
   ]
  },
  {
   "cell_type": "markdown",
   "id": "94977cde",
   "metadata": {},
   "source": [
    "## Let's answer Question #2"
   ]
  },
  {
   "cell_type": "code",
   "execution_count": 43,
   "id": "f01515a9",
   "metadata": {},
   "outputs": [],
   "source": [
    "name_leng=len(df[\"Question\"])\n",
    "\n",
    "name_arr=[]\n",
    "for x in range(name_leng):\n",
    "    row_valeu=df.iloc[x]\n",
    "    name_arr.append(row_valeu[0])  \n",
    "    \n",
    "dict_of_counts = {item:name_arr.count(item) for item in name_arr}"
   ]
  },
  {
   "cell_type": "code",
   "execution_count": 44,
   "id": "51f959fd",
   "metadata": {},
   "outputs": [],
   "source": [
    "keys = dict_of_counts.keys()\n",
    "values = dict_of_counts.values()"
   ]
  },
  {
   "cell_type": "code",
   "execution_count": 45,
   "id": "4503cfe1",
   "metadata": {},
   "outputs": [
    {
     "data": {
      "image/png": "[encoded data removed]",
      "text/plain": [
       "<Figure size 432x288 with 1 Axes>"
      ]
     },
     "metadata": {
      "needs_background": "light"
     },
     "output_type": "display_data"
    }
   ],
   "source": [
    "plt.bar(keys, values,width=0.5)\n",
    "plt.xticks(rotation=90, horizontalalignment=\"center\");"
   ]
  },
  {
   "cell_type": "markdown",
   "id": "16e034e4",
   "metadata": {},
   "source": [
    "## Let's answer Question #3"
   ]
  },
  {
   "cell_type": "code",
   "execution_count": 46,
   "id": "67851c52",
   "metadata": {},
   "outputs": [
    {
     "data": {
      "text/html": [
       "<div>\n",
       "<style scoped>\n",
       "    .dataframe tbody tr th:only-of-type {\n",
       "        vertical-align: middle;\n",
       "    }\n",
       "\n",
       "    .dataframe tbody tr th {\n",
       "        vertical-align: top;\n",
       "    }\n",
       "\n",
       "    .dataframe thead th {\n",
       "        text-align: right;\n",
       "    }\n",
       "</style>\n",
       "<table border=\"1\" class=\"dataframe\">\n",
       "  <thead>\n",
       "    <tr style=\"text-align: right;\">\n",
       "      <th></th>\n",
       "      <th>Question</th>\n",
       "      <th>Info</th>\n",
       "      <th>importance level</th>\n",
       "      <th>website</th>\n",
       "    </tr>\n",
       "  </thead>\n",
       "  <tbody>\n",
       "    <tr>\n",
       "      <th>206</th>\n",
       "      <td>what is Database</td>\n",
       "      <td>A database is information that is set up for e...</td>\n",
       "      <td>1</td>\n",
       "      <td>www.techtarget.com</td>\n",
       "    </tr>\n",
       "    <tr>\n",
       "      <th>211</th>\n",
       "      <td>what is Database</td>\n",
       "      <td>Data is information and to organize this data,...</td>\n",
       "      <td>2</td>\n",
       "      <td>www.edu</td>\n",
       "    </tr>\n",
       "    <tr>\n",
       "      <th>214</th>\n",
       "      <td>what is Database</td>\n",
       "      <td>Database management systems are software syste...</td>\n",
       "      <td>4</td>\n",
       "      <td>www.appdynamics.com</td>\n",
       "    </tr>\n",
       "    <tr>\n",
       "      <th>216</th>\n",
       "      <td>what is Database</td>\n",
       "      <td>What structures exist in a relational database?</td>\n",
       "      <td>1</td>\n",
       "      <td>www.ibm.com</td>\n",
       "    </tr>\n",
       "    <tr>\n",
       "      <th>219</th>\n",
       "      <td>what is Database</td>\n",
       "      <td>Before giving information about the database m...</td>\n",
       "      <td>5</td>\n",
       "      <td>www.gtech.com</td>\n",
       "    </tr>\n",
       "  </tbody>\n",
       "</table>\n",
       "</div>"
      ],
      "text/plain": [
       "             Question                                               Info  \\\n",
       "206  what is Database  A database is information that is set up for e...   \n",
       "211  what is Database  Data is information and to organize this data,...   \n",
       "214  what is Database  Database management systems are software syste...   \n",
       "216  what is Database    What structures exist in a relational database?   \n",
       "219  what is Database  Before giving information about the database m...   \n",
       "\n",
       "     importance level              website  \n",
       "206                 1   www.techtarget.com  \n",
       "211                 2              www.edu  \n",
       "214                 4  www.appdynamics.com  \n",
       "216                 1          www.ibm.com  \n",
       "219                 5        www.gtech.com  "
      ]
     },
     "execution_count": 46,
     "metadata": {},
     "output_type": "execute_result"
    }
   ],
   "source": [
    "found_question = df.loc[(df[\"Question\"] == \"what is Database\")]\n",
    "found_question.head()"
   ]
  },
  {
   "cell_type": "code",
   "execution_count": null,
   "id": "26d9ffac",
   "metadata": {},
   "outputs": [],
   "source": []
  }
 ],
 "metadata": {
  "kernelspec": {
   "display_name": "Python 3 (ipykernel)",
   "language": "python",
   "name": "python3"
  },
  "language_info": {
   "codemirror_mode": {
    "name": "ipython",
    "version": 3
   },
   "file_extension": ".py",
   "mimetype": "text/x-python",
   "name": "python",
   "nbconvert_exporter": "python",
   "pygments_lexer": "ipython3",
   "version": "3.9.7"
  }
 },
 "nbformat": 4,
 "nbformat_minor": 5
}
